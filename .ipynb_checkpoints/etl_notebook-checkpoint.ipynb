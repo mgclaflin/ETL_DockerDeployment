{
 "cells": [
  {
   "cell_type": "code",
   "execution_count": 2,
   "id": "546ebf85",
   "metadata": {},
   "outputs": [
    {
     "name": "stdout",
     "output_type": "stream",
     "text": [
      "Requirement already satisfied: requests in c:\\users\\matth\\anaconda3\\lib\\site-packages (2.28.1)\n",
      "Collecting python-dotenv\n",
      "  Using cached python_dotenv-1.0.1-py3-none-any.whl (19 kB)\n",
      "Requirement already satisfied: idna<4,>=2.5 in c:\\users\\matth\\anaconda3\\lib\\site-packages (from requests) (3.4)\n",
      "Requirement already satisfied: charset-normalizer<3,>=2 in c:\\users\\matth\\anaconda3\\lib\\site-packages (from requests) (2.0.4)\n",
      "Requirement already satisfied: urllib3<1.27,>=1.21.1 in c:\\users\\matth\\anaconda3\\lib\\site-packages (from requests) (1.26.14)\n",
      "Requirement already satisfied: certifi>=2017.4.17 in c:\\users\\matth\\anaconda3\\lib\\site-packages (from requests) (2022.12.7)\n",
      "Installing collected packages: python-dotenv\n",
      "Successfully installed python-dotenv-1.0.1\n",
      "Note: you may need to restart the kernel to use updated packages.\n"
     ]
    },
    {
     "name": "stderr",
     "output_type": "stream",
     "text": [
      "WARNING: Ignoring invalid distribution -umpy (c:\\users\\matth\\anaconda3\\lib\\site-packages)\n",
      "WARNING: Ignoring invalid distribution -umpy (c:\\users\\matth\\anaconda3\\lib\\site-packages)\n",
      "WARNING: Ignoring invalid distribution -umpy (c:\\users\\matth\\anaconda3\\lib\\site-packages)\n",
      "WARNING: Ignoring invalid distribution -umpy (c:\\users\\matth\\anaconda3\\lib\\site-packages)\n",
      "WARNING: Ignoring invalid distribution -umpy (c:\\users\\matth\\anaconda3\\lib\\site-packages)\n",
      "WARNING: Ignoring invalid distribution -umpy (c:\\users\\matth\\anaconda3\\lib\\site-packages)\n",
      "WARNING: Ignoring invalid distribution -umpy (c:\\users\\matth\\anaconda3\\lib\\site-packages)\n"
     ]
    }
   ],
   "source": [
    "pip install requests python-dotenv"
   ]
  },
  {
   "cell_type": "code",
   "execution_count": 38,
   "id": "3d50b67a",
   "metadata": {},
   "outputs": [],
   "source": [
    "import requests\n",
    "import os\n",
    "from dotenv import load_dotenv\n",
    "from datetime import datetime\n",
    "import time\n",
    "import json"
   ]
  },
  {
   "cell_type": "code",
   "execution_count": 8,
   "id": "27d75c7f",
   "metadata": {},
   "outputs": [],
   "source": [
    "# load envrionment variables from the .env file\n",
    "load_dotenv()\n",
    "\n",
    "# get the API key from the .env file\n",
    "api_key =os.getenv(\"API_KEY\")"
   ]
  },
  {
   "cell_type": "code",
   "execution_count": null,
   "id": "cfd2c327",
   "metadata": {},
   "outputs": [],
   "source": []
  },
  {
   "cell_type": "code",
   "execution_count": 11,
   "id": "b24bb075",
   "metadata": {},
   "outputs": [
    {
     "name": "stdout",
     "output_type": "stream",
     "text": [
      "City: Denver,CO,USA - Latitude: 39.7392, Longitude: -104.9847\n",
      "City: Austin,TX,USA - Latitude: 30.2711, Longitude: -97.7437\n",
      "City: Stuttgart,DE - Latitude: 48.7823, Longitude: 9.177\n"
     ]
    }
   ],
   "source": [
    "## function for getting lat & long encoding of cities\n",
    "\n",
    "# Geocoding API endpoint\n",
    "geocoding_url = \"http://api.openweathermap.org/data/2.5/weather\"\n",
    "\n",
    "# List of cities\n",
    "cities = [\"Denver,CO,USA\", \"Austin,TX,USA\", \"Stuttgart,DE\"]\n",
    "\n",
    "# Loop through the cities and get their lat, lon\n",
    "for city in cities:\n",
    "    # Send GET request to the OpenWeatherMap Geocoding API\n",
    "    response = requests.get(geocoding_url, params={\n",
    "        'q': city,\n",
    "        'appid': api_key\n",
    "    })\n",
    "    \n",
    "    # Check if the request was successful\n",
    "    if response.status_code == 200:\n",
    "        data = response.json()\n",
    "        lat = data['coord']['lat']\n",
    "        lon = data['coord']['lon']\n",
    "        print(f\"City: {city} - Latitude: {lat}, Longitude: {lon}\")\n",
    "    else:\n",
    "        print(f\"Failed to get data for {city}\")\n",
    "        \n",
    "##then store this information within the config file"
   ]
  },
  {
   "cell_type": "code",
   "execution_count": null,
   "id": "63a23eeb",
   "metadata": {},
   "outputs": [],
   "source": []
  },
  {
   "cell_type": "code",
   "execution_count": 36,
   "id": "055107c8",
   "metadata": {},
   "outputs": [],
   "source": [
    "# api call to get the current weather \n",
    "import requests\n",
    "\n",
    "def get_weather(api_key, lat, lon, exclude='minutely,daily,hourly', units='imperial', lang='en'):\n",
    "    # Build the base URL for the OneCall API\n",
    "    url = f\"https://api.openweathermap.org/data/3.0/onecall\"\n",
    "    \n",
    "    # Prepare the parameters for the API call\n",
    "    params = {\n",
    "        'lat': lat,\n",
    "        'lon': lon,\n",
    "        'appid': api_key,\n",
    "        'units': units,  # 'imperial' for Fahrenheit, 'metric' for Celsius\n",
    "        'lang': lang      # Language for the response\n",
    "    }\n",
    "    \n",
    "    # Add the 'exclude' parameter if it's provided\n",
    "    if exclude:\n",
    "        params['exclude'] = exclude\n",
    "    \n",
    "    # Make the API request\n",
    "    response = requests.get(url, params=params)\n",
    "    \n",
    "    # Check if the request was successful\n",
    "    if response.status_code == 200:\n",
    "        data = response.json()\n",
    "        # Print or process the data\n",
    "        return data\n",
    "    else:\n",
    "        print(f\"Error: {response.status_code}, {response.text}\")\n",
    "        return None"
   ]
  },
  {
   "cell_type": "code",
   "execution_count": 40,
   "id": "7065e731",
   "metadata": {},
   "outputs": [],
   "source": [
    "# Step 1: Load the config file\n",
    "with open('cities_config.json', 'r') as f:\n",
    "    config_data = json.load(f)\n",
    "    \n",
    "weather_data = []\n",
    "\n",
    "# Step 2: Loop through each city and use the data for API requests\n",
    "for city in config_data['cities']:\n",
    "    latitude = city['latitude']\n",
    "    longitude = city['longitude']\n",
    "    \n",
    "    weather_data.append(get_weather(api_key, latitude, longitude))"
   ]
  },
  {
   "cell_type": "code",
   "execution_count": 42,
   "id": "e0dcb4a1",
   "metadata": {},
   "outputs": [
    {
     "name": "stdout",
     "output_type": "stream",
     "text": [
      "Data saved to data/raw_weather_data.json\n"
     ]
    }
   ],
   "source": [
    "# File path within the \"data\" folder\n",
    "file_path = 'data/raw_weather_data.json'\n",
    "\n",
    "# Check if the file exists to decide whether to append or create new\n",
    "if os.path.exists(file_path):\n",
    "    # If the file exists, load the existing data, then append new data\n",
    "    with open(file_path, 'r') as json_file:\n",
    "        existing_data = json.load(json_file)\n",
    "        existing_data.extend(weather_data)\n",
    "    \n",
    "    # Append to the file\n",
    "    with open(file_path, 'w') as json_file:\n",
    "        json.dump(existing_data, json_file, indent=4)\n",
    "else:\n",
    "    # If the file doesn't exist, create it and write the new data\n",
    "    with open(file_path, 'w') as json_file:\n",
    "        json.dump(weather_data, json_file, indent=4)\n",
    "\n",
    "print(f\"Data saved to {file_path}\")"
   ]
  },
  {
   "cell_type": "code",
   "execution_count": null,
   "id": "5e068655",
   "metadata": {},
   "outputs": [],
   "source": []
  }
 ],
 "metadata": {
  "kernelspec": {
   "display_name": "Python 3 (ipykernel)",
   "language": "python",
   "name": "python3"
  },
  "language_info": {
   "codemirror_mode": {
    "name": "ipython",
    "version": 3
   },
   "file_extension": ".py",
   "mimetype": "text/x-python",
   "name": "python",
   "nbconvert_exporter": "python",
   "pygments_lexer": "ipython3",
   "version": "3.10.9"
  }
 },
 "nbformat": 4,
 "nbformat_minor": 5
}
