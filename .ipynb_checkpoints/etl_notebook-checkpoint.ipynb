{
 "cells": [
  {
   "cell_type": "code",
   "execution_count": 2,
   "id": "3eb99c5e",
   "metadata": {},
   "outputs": [
    {
     "name": "stdout",
     "output_type": "stream",
     "text": [
      "Requirement already satisfied: requests in c:\\users\\matth\\anaconda3\\lib\\site-packages (2.28.1)\n",
      "Collecting python-dotenv\n",
      "  Using cached python_dotenv-1.0.1-py3-none-any.whl (19 kB)\n",
      "Requirement already satisfied: idna<4,>=2.5 in c:\\users\\matth\\anaconda3\\lib\\site-packages (from requests) (3.4)\n",
      "Requirement already satisfied: charset-normalizer<3,>=2 in c:\\users\\matth\\anaconda3\\lib\\site-packages (from requests) (2.0.4)\n",
      "Requirement already satisfied: urllib3<1.27,>=1.21.1 in c:\\users\\matth\\anaconda3\\lib\\site-packages (from requests) (1.26.14)\n",
      "Requirement already satisfied: certifi>=2017.4.17 in c:\\users\\matth\\anaconda3\\lib\\site-packages (from requests) (2022.12.7)\n",
      "Installing collected packages: python-dotenv\n",
      "Successfully installed python-dotenv-1.0.1\n",
      "Note: you may need to restart the kernel to use updated packages.\n"
     ]
    },
    {
     "name": "stderr",
     "output_type": "stream",
     "text": [
      "WARNING: Ignoring invalid distribution -umpy (c:\\users\\matth\\anaconda3\\lib\\site-packages)\n",
      "WARNING: Ignoring invalid distribution -umpy (c:\\users\\matth\\anaconda3\\lib\\site-packages)\n",
      "WARNING: Ignoring invalid distribution -umpy (c:\\users\\matth\\anaconda3\\lib\\site-packages)\n",
      "WARNING: Ignoring invalid distribution -umpy (c:\\users\\matth\\anaconda3\\lib\\site-packages)\n",
      "WARNING: Ignoring invalid distribution -umpy (c:\\users\\matth\\anaconda3\\lib\\site-packages)\n",
      "WARNING: Ignoring invalid distribution -umpy (c:\\users\\matth\\anaconda3\\lib\\site-packages)\n",
      "WARNING: Ignoring invalid distribution -umpy (c:\\users\\matth\\anaconda3\\lib\\site-packages)\n"
     ]
    }
   ],
   "source": [
    "pip install requests python-dotenv"
   ]
  },
  {
   "cell_type": "code",
   "execution_count": 62,
   "id": "20bc4992",
   "metadata": {},
   "outputs": [],
   "source": [
    "import requests\n",
    "import os\n",
    "from dotenv import load_dotenv\n",
    "from datetime import datetime, timedelta\n",
    "import time\n",
    "import json\n",
    "import pandas as pd"
   ]
  },
  {
   "cell_type": "markdown",
   "id": "71b5ac42",
   "metadata": {},
   "source": [
    "# loading environment variables (API key)"
   ]
  },
  {
   "cell_type": "code",
   "execution_count": 8,
   "id": "0ac50021",
   "metadata": {},
   "outputs": [],
   "source": [
    "# load envrionment variables from the .env file\n",
    "load_dotenv()\n",
    "\n",
    "# get the API key from the .env file\n",
    "api_key =os.getenv(\"API_KEY\")"
   ]
  },
  {
   "cell_type": "markdown",
   "id": "d539985a",
   "metadata": {},
   "source": [
    "# getting latitude and longitude encodings for cities (list of cities in config file)"
   ]
  },
  {
   "cell_type": "code",
   "execution_count": 11,
   "id": "6e2e1d99",
   "metadata": {},
   "outputs": [
    {
     "name": "stdout",
     "output_type": "stream",
     "text": [
      "City: Denver,CO,USA - Latitude: 39.7392, Longitude: -104.9847\n",
      "City: Austin,TX,USA - Latitude: 30.2711, Longitude: -97.7437\n",
      "City: Stuttgart,DE - Latitude: 48.7823, Longitude: 9.177\n"
     ]
    }
   ],
   "source": [
    "## function for getting lat & long encoding of cities\n",
    "\n",
    "# Geocoding API endpoint\n",
    "geocoding_url = \"http://api.openweathermap.org/data/2.5/weather\"\n",
    "\n",
    "# List of cities\n",
    "cities = [\"Denver,CO,USA\", \"Austin,TX,USA\", \"Stuttgart,DE\"]\n",
    "\n",
    "# Loop through the cities and get their lat, lon\n",
    "for city in cities:\n",
    "    # Send GET request to the OpenWeatherMap Geocoding API\n",
    "    response = requests.get(geocoding_url, params={\n",
    "        'q': city,\n",
    "        'appid': api_key\n",
    "    })\n",
    "    \n",
    "    # Check if the request was successful\n",
    "    if response.status_code == 200:\n",
    "        data = response.json()\n",
    "        lat = data['coord']['lat']\n",
    "        lon = data['coord']['lon']\n",
    "        print(f\"City: {city} - Latitude: {lat}, Longitude: {lon}\")\n",
    "    else:\n",
    "        print(f\"Failed to get data for {city}\")\n",
    "        \n",
    "##then store this information within the config file"
   ]
  },
  {
   "cell_type": "markdown",
   "id": "6f93ca09",
   "metadata": {},
   "source": [
    "# API call function"
   ]
  },
  {
   "cell_type": "code",
   "execution_count": 54,
   "id": "c380782a",
   "metadata": {},
   "outputs": [],
   "source": [
    "# api call to get the current weather \n",
    "import requests\n",
    "\n",
    "def get_weather(api_key, lat, lon, exclude='minutely,daily,hourly', units='imperial', lang='en'):\n",
    "    # Build the base URL for the OneCall API\n",
    "    url = f\"https://api.openweathermap.org/data/3.0/onecall\"\n",
    "    \n",
    "    # Prepare the parameters for the API call\n",
    "    params = {\n",
    "        'lat': lat,\n",
    "        'lon': lon,\n",
    "        'appid': api_key,\n",
    "        'units': units,  # 'imperial' for Fahrenheit, 'metric' for Celsius\n",
    "        'lang': lang      # Language for the response\n",
    "    }\n",
    "    \n",
    "    # Add the 'exclude' parameter if it's provided\n",
    "    if exclude:\n",
    "        params['exclude'] = exclude\n",
    "    \n",
    "    # Make the API request\n",
    "    response = requests.get(url, params=params)\n",
    "    \n",
    "    # Check if the request was successful\n",
    "    if response.status_code == 200:\n",
    "        data = response.json()\n",
    "        # Print or process the data\n",
    "        return data\n",
    "    else:\n",
    "        print(f\"Error: {response.status_code}, {response.text}\")\n",
    "        return None"
   ]
  },
  {
   "cell_type": "markdown",
   "id": "46326ed3",
   "metadata": {},
   "source": [
    "# Running the API call based upon cities in config file & then writing data to json file"
   ]
  },
  {
   "cell_type": "code",
   "execution_count": 55,
   "id": "4528a364",
   "metadata": {},
   "outputs": [],
   "source": [
    "# Step 1: Load the config file\n",
    "with open('cities_config.json', 'r') as f:\n",
    "    config_data = json.load(f)\n",
    "    \n",
    "weather_data = []\n",
    "\n",
    "# Step 2: Loop through each city and use the data for API requests\n",
    "for city in config_data['cities']:\n",
    "    latitude = city['latitude']\n",
    "    longitude = city['longitude']\n",
    "    \n",
    "    weather_data.append(get_weather(api_key, latitude, longitude))"
   ]
  },
  {
   "cell_type": "code",
   "execution_count": 56,
   "id": "5c8e1594",
   "metadata": {},
   "outputs": [
    {
     "name": "stdout",
     "output_type": "stream",
     "text": [
      "Data saved to data/raw_weather_data.json\n"
     ]
    }
   ],
   "source": [
    "# File path within the \"data\" folder\n",
    "file_path = 'data/raw_weather_data.json'\n",
    "\n",
    "# Check if the file exists to decide whether to append or create new\n",
    "if os.path.exists(file_path):\n",
    "    # If the file exists, load the existing data, then append new data\n",
    "    with open(file_path, 'r') as json_file:\n",
    "        existing_data = json.load(json_file)\n",
    "        existing_data.extend(weather_data)\n",
    "    \n",
    "    # Append to the file\n",
    "    with open(file_path, 'w') as json_file:\n",
    "        json.dump(existing_data, json_file, indent=4)\n",
    "else:\n",
    "    # If the file doesn't exist, create it and write the new data\n",
    "    with open(file_path, 'w') as json_file:\n",
    "        json.dump(weather_data, json_file, indent=4)\n",
    "\n",
    "print(f\"Data saved to {file_path}\")"
   ]
  },
  {
   "cell_type": "markdown",
   "id": "6eb5764f",
   "metadata": {},
   "source": [
    "# clean the weather data and write it to a csv data file"
   ]
  },
  {
   "cell_type": "code",
   "execution_count": 69,
   "id": "8c2233f3",
   "metadata": {},
   "outputs": [],
   "source": [
    "# Function to convert Unix timestamp to local time\n",
    "def convert_to_local_time(timestamp, offset):\n",
    "    utc_time = datetime.utcfromtimestamp(timestamp)\n",
    "    return utc_time + timedelta(seconds=offset)"
   ]
  },
  {
   "cell_type": "code",
   "execution_count": 81,
   "id": "7c90f346",
   "metadata": {},
   "outputs": [
    {
     "name": "stdout",
     "output_type": "stream",
     "text": [
      "   latitude  longitude         timezone  timezone_offset current_time  \\\n",
      "0   48.7823      9.177   America/Denver           -25200     09:54:58   \n",
      "1   48.7823      9.177  America/Chicago           -21600     10:54:58   \n",
      "2   48.7823      9.177    Europe/Berlin             3600     17:54:58   \n",
      "\n",
      "  current_date   sunrise    sunset  temp_F  feels_like_F  ...   uvi  clouds  \\\n",
      "0   2025-02-16  06:50:57  17:37:19   25.79         22.30  ...  1.93      45   \n",
      "1   2025-02-16  07:10:08  18:20:12   43.21         34.30  ...  4.27       0   \n",
      "2   2025-02-16  07:29:44  17:45:16   32.94         24.71  ...  0.00     100   \n",
      "\n",
      "   visibility  wind_speed_mph  wind_deg  wind_gust_mph  weather_id  \\\n",
      "0       10000            3.00       217           3.00         802   \n",
      "1       10000           21.85        10          28.77         800   \n",
      "2       10000           10.36        60           0.00         804   \n",
      "\n",
      "   weather_main  weather_description  \\\n",
      "0        Clouds     scattered clouds   \n",
      "1         Clear            clear sky   \n",
      "2        Clouds      overcast clouds   \n",
      "\n",
      "                                              alerts  \n",
      "0                                                     \n",
      "1                                                     \n",
      "2  frost: There is a risk of frost (level 1 of 2)...  \n",
      "\n",
      "[3 rows x 23 columns]\n"
     ]
    }
   ],
   "source": [
    "# Initialize an empty list to store records\n",
    "data = []\n",
    "\n",
    "# Process each record\n",
    "for record in weather_data:\n",
    "    latitude, longitude = record[\"lat\"], record[\"lon\"]\n",
    "    timezone = record[\"timezone\"]\n",
    "    timezone_offset = record[\"timezone_offset\"]\n",
    "\n",
    "    # Convert timestamps\n",
    "    current_date = convert_to_local_time(record[\"current\"][\"dt\"], timezone_offset).strftime('%Y-%m-%d')\n",
    "    current_time = convert_to_local_time(record[\"current\"][\"dt\"], timezone_offset).strftime('%H:%M:%S')\n",
    "    sunrise = convert_to_local_time(record[\"current\"][\"sunrise\"], timezone_offset).strftime('%H:%M:%S')\n",
    "    sunset = convert_to_local_time(record[\"current\"][\"sunset\"], timezone_offset).strftime('%H:%M:%S')\n",
    "\n",
    "    # Extract weather details\n",
    "    temp = record[\"current\"][\"temp\"]\n",
    "    feels_like = record[\"current\"][\"feels_like\"]\n",
    "    pressure = record[\"current\"][\"pressure\"]\n",
    "    humidity = record[\"current\"][\"humidity\"]\n",
    "    dew_point = record[\"current\"][\"dew_point\"]\n",
    "    uvi = record[\"current\"][\"uvi\"]\n",
    "    clouds = record[\"current\"][\"clouds\"]\n",
    "    visibility = record[\"current\"][\"visibility\"]\n",
    "    wind_speed = record[\"current\"][\"wind_speed\"]\n",
    "    wind_deg = record[\"current\"][\"wind_deg\"]\n",
    "    wind_gust = record[\"current\"].get(\"wind_gust\", 0)\n",
    "    weather = record[\"current\"][\"weather\"][0]\n",
    "    weather_id = weather[\"id\"]\n",
    "    weather_main = weather[\"main\"]\n",
    "    weather_description = weather[\"description\"]\n",
    "\n",
    "    # Handle alerts (if any)\n",
    "    alerts = record.get(\"alerts\", [])\n",
    "    alert_messages = \"; \".join([alert[\"event\"] + \": \" + alert[\"description\"] for alert in alerts])\n",
    "\n",
    "    # Add the record to the data list\n",
    "    data.append({\n",
    "        \"latitude\": lat,\n",
    "        \"longitude\": lon,\n",
    "        \"timezone\": timezone,\n",
    "        \"timezone_offset\": timezone_offset,\n",
    "        \"current_time\": current_time,\n",
    "        \"current_date\": current_date,\n",
    "        \"sunrise\": sunrise,\n",
    "        \"sunset\": sunset,\n",
    "        \"temp_F\": temp,\n",
    "        \"feels_like_F\": feels_like,\n",
    "        \"humidity\": humidity,\n",
    "        \"dew_point\": dew_point,\n",
    "        \"uvi\": uvi,\n",
    "        \"clouds\": clouds,\n",
    "        \"visibility\": visibility,\n",
    "        \"wind_speed_mph\": wind_speed,\n",
    "        \"wind_deg\": wind_deg,\n",
    "        \"wind_gust_mph\": wind_gust,\n",
    "        \"weather_id\": weather_id,\n",
    "        \"weather_main\": weather_main,\n",
    "        \"weather_description\": weather_description,\n",
    "        \"alerts\": alert_messages\n",
    "    })\n",
    "\n",
    "# Create a DataFrame from the data list\n",
    "df = pd.DataFrame(data)"
   ]
  },
  {
   "cell_type": "code",
   "execution_count": 82,
   "id": "24c749b4",
   "metadata": {},
   "outputs": [
    {
     "data": {
      "text/html": [
       "<div>\n",
       "<style scoped>\n",
       "    .dataframe tbody tr th:only-of-type {\n",
       "        vertical-align: middle;\n",
       "    }\n",
       "\n",
       "    .dataframe tbody tr th {\n",
       "        vertical-align: top;\n",
       "    }\n",
       "\n",
       "    .dataframe thead th {\n",
       "        text-align: right;\n",
       "    }\n",
       "</style>\n",
       "<table border=\"1\" class=\"dataframe\">\n",
       "  <thead>\n",
       "    <tr style=\"text-align: right;\">\n",
       "      <th></th>\n",
       "      <th>latitude</th>\n",
       "      <th>longitude</th>\n",
       "      <th>timezone</th>\n",
       "      <th>timezone_offset</th>\n",
       "      <th>current_time</th>\n",
       "      <th>current_date</th>\n",
       "      <th>sunrise</th>\n",
       "      <th>sunset</th>\n",
       "      <th>temp_F</th>\n",
       "      <th>feels_like_F</th>\n",
       "      <th>...</th>\n",
       "      <th>uvi</th>\n",
       "      <th>clouds</th>\n",
       "      <th>visibility</th>\n",
       "      <th>wind_speed_mph</th>\n",
       "      <th>wind_deg</th>\n",
       "      <th>wind_gust_mph</th>\n",
       "      <th>weather_id</th>\n",
       "      <th>weather_main</th>\n",
       "      <th>weather_description</th>\n",
       "      <th>alerts</th>\n",
       "    </tr>\n",
       "  </thead>\n",
       "  <tbody>\n",
       "    <tr>\n",
       "      <th>0</th>\n",
       "      <td>48.7823</td>\n",
       "      <td>9.177</td>\n",
       "      <td>America/Denver</td>\n",
       "      <td>-25200</td>\n",
       "      <td>09:54:58</td>\n",
       "      <td>2025-02-16</td>\n",
       "      <td>06:50:57</td>\n",
       "      <td>17:37:19</td>\n",
       "      <td>25.79</td>\n",
       "      <td>22.30</td>\n",
       "      <td>...</td>\n",
       "      <td>1.93</td>\n",
       "      <td>45</td>\n",
       "      <td>10000</td>\n",
       "      <td>3.00</td>\n",
       "      <td>217</td>\n",
       "      <td>3.00</td>\n",
       "      <td>802</td>\n",
       "      <td>Clouds</td>\n",
       "      <td>scattered clouds</td>\n",
       "      <td></td>\n",
       "    </tr>\n",
       "    <tr>\n",
       "      <th>1</th>\n",
       "      <td>48.7823</td>\n",
       "      <td>9.177</td>\n",
       "      <td>America/Chicago</td>\n",
       "      <td>-21600</td>\n",
       "      <td>10:54:58</td>\n",
       "      <td>2025-02-16</td>\n",
       "      <td>07:10:08</td>\n",
       "      <td>18:20:12</td>\n",
       "      <td>43.21</td>\n",
       "      <td>34.30</td>\n",
       "      <td>...</td>\n",
       "      <td>4.27</td>\n",
       "      <td>0</td>\n",
       "      <td>10000</td>\n",
       "      <td>21.85</td>\n",
       "      <td>10</td>\n",
       "      <td>28.77</td>\n",
       "      <td>800</td>\n",
       "      <td>Clear</td>\n",
       "      <td>clear sky</td>\n",
       "      <td></td>\n",
       "    </tr>\n",
       "    <tr>\n",
       "      <th>2</th>\n",
       "      <td>48.7823</td>\n",
       "      <td>9.177</td>\n",
       "      <td>Europe/Berlin</td>\n",
       "      <td>3600</td>\n",
       "      <td>17:54:58</td>\n",
       "      <td>2025-02-16</td>\n",
       "      <td>07:29:44</td>\n",
       "      <td>17:45:16</td>\n",
       "      <td>32.94</td>\n",
       "      <td>24.71</td>\n",
       "      <td>...</td>\n",
       "      <td>0.00</td>\n",
       "      <td>100</td>\n",
       "      <td>10000</td>\n",
       "      <td>10.36</td>\n",
       "      <td>60</td>\n",
       "      <td>0.00</td>\n",
       "      <td>804</td>\n",
       "      <td>Clouds</td>\n",
       "      <td>overcast clouds</td>\n",
       "      <td>frost: There is a risk of frost (level 1 of 2)...</td>\n",
       "    </tr>\n",
       "  </tbody>\n",
       "</table>\n",
       "<p>3 rows × 23 columns</p>\n",
       "</div>"
      ],
      "text/plain": [
       "   latitude  longitude         timezone  timezone_offset current_time  \\\n",
       "0   48.7823      9.177   America/Denver           -25200     09:54:58   \n",
       "1   48.7823      9.177  America/Chicago           -21600     10:54:58   \n",
       "2   48.7823      9.177    Europe/Berlin             3600     17:54:58   \n",
       "\n",
       "  current_date   sunrise    sunset  temp_F  feels_like_F  ...   uvi  clouds  \\\n",
       "0   2025-02-16  06:50:57  17:37:19   25.79         22.30  ...  1.93      45   \n",
       "1   2025-02-16  07:10:08  18:20:12   43.21         34.30  ...  4.27       0   \n",
       "2   2025-02-16  07:29:44  17:45:16   32.94         24.71  ...  0.00     100   \n",
       "\n",
       "   visibility  wind_speed_mph  wind_deg  wind_gust_mph  weather_id  \\\n",
       "0       10000            3.00       217           3.00         802   \n",
       "1       10000           21.85        10          28.77         800   \n",
       "2       10000           10.36        60           0.00         804   \n",
       "\n",
       "   weather_main  weather_description  \\\n",
       "0        Clouds     scattered clouds   \n",
       "1         Clear            clear sky   \n",
       "2        Clouds      overcast clouds   \n",
       "\n",
       "                                              alerts  \n",
       "0                                                     \n",
       "1                                                     \n",
       "2  frost: There is a risk of frost (level 1 of 2)...  \n",
       "\n",
       "[3 rows x 23 columns]"
      ]
     },
     "execution_count": 82,
     "metadata": {},
     "output_type": "execute_result"
    }
   ],
   "source": [
    "df.head()"
   ]
  },
  {
   "cell_type": "code",
   "execution_count": 83,
   "id": "0256fffe",
   "metadata": {},
   "outputs": [
    {
     "name": "stdout",
     "output_type": "stream",
     "text": [
      "Data saved to data/clean_weather_data.csv\n"
     ]
    }
   ],
   "source": [
    "# File path within the \"data\" folder\n",
    "file_path = 'data/clean_weather_data.csv'\n",
    "\n",
    "# Check if the file exists to decide whether to append or create new\n",
    "if os.path.exists(file_path):\n",
    "    # If the file exists, load the existing data, then append new data\n",
    "    existing_data = pd.read_csv(file_path)\n",
    "    updated_data = pd.concat([existing_data, df], ignore_index=True)\n",
    "    \n",
    "    # Append to the file\n",
    "    updated_data.to_csv(file_path, index=False)\n",
    "else:\n",
    "    # If the file doesn't exist, create it and write the new data\n",
    "    df.to_csv(file_path, index=False)\n",
    "\n",
    "print(f\"Data saved to {file_path}\")\n"
   ]
  },
  {
   "cell_type": "code",
   "execution_count": null,
   "id": "e7f45b3e",
   "metadata": {},
   "outputs": [],
   "source": []
  },
  {
   "cell_type": "markdown",
   "id": "36b11043",
   "metadata": {},
   "source": [
    "# write the cleaned data to a postgresql database"
   ]
  },
  {
   "cell_type": "code",
   "execution_count": null,
   "id": "f42f71b0",
   "metadata": {},
   "outputs": [],
   "source": []
  }
 ],
 "metadata": {
  "kernelspec": {
   "display_name": "Python 3 (ipykernel)",
   "language": "python",
   "name": "python3"
  },
  "language_info": {
   "codemirror_mode": {
    "name": "ipython",
    "version": 3
   },
   "file_extension": ".py",
   "mimetype": "text/x-python",
   "name": "python",
   "nbconvert_exporter": "python",
   "pygments_lexer": "ipython3",
   "version": "3.10.9"
  }
 },
 "nbformat": 4,
 "nbformat_minor": 5
}
